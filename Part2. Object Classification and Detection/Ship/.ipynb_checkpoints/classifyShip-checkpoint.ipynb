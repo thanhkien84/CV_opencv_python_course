{
 "cells": [
  {
   "cell_type": "markdown",
   "metadata": {
    "_cell_guid": "2ccf17df-b189-43fe-b01b-9e46a918a55b",
    "_uuid": "339988d2ae05e7ceb5217db4675fa6d0de373c4a"
   },
   "source": [
    "**Introduction**\n",
    "\n",
    "Classifying an image into ship or not-ship.\n",
    "\n",
    "Features: Histogram of Oriented Gradients - HOG\n",
    "Classifier: Support Vector Machines - SVM\n",
    "\n",
    "Dataset: Ship images from satellite\n",
    "3600 images of size 80x80x3 (RGB)\n",
    "900 train + 2700 test\n",
    "\n",
    "\n",
    "\n",
    "Copyright 2018\n",
    "\n",
    "Kien Nguyen\n",
    "\n",
    "k.nguyenthanh@qut.edu.au\n",
    "\n"
   ]
  },
  {
   "cell_type": "code",
   "execution_count": 1,
   "metadata": {
    "_cell_guid": "7cce4402-c8ec-4f5e-9d0d-b9b64353c133",
    "_uuid": "6df37a27fc458ba5bc6ea1859368e0e6837ddbff",
    "collapsed": true,
    "scrolled": false
   },
   "outputs": [],
   "source": [
    "# Load some helpful packages \n",
    "\n",
    "# linear algebra\n",
    "import numpy as np \n",
    "\n",
    "# dataset package\n",
    "import json\n",
    "\n",
    "# display package\n",
    "from matplotlib import pyplot as plt\n",
    "\n",
    "# Step 3. Feature extraction - image processing package (HOG)\n",
    "from skimage import color           \n",
    "from skimage.feature import hog\n",
    "\n",
    "# Step 4. Classification - machine learning package (SVM)\n",
    "from sklearn import svm\n",
    "from sklearn.metrics import classification_report,accuracy_score\n",
    "\n",
    "#from subprocess import check_output\n",
    "#print(check_output([\"ls\", \"./shipsnet\"]).decode(\"utf8\"))"
   ]
  },
  {
   "cell_type": "code",
   "execution_count": null,
   "metadata": {
    "collapsed": true
   },
   "outputs": [],
   "source": [
    "#Download the dataset in the json format\n",
    "import requests\n",
    "\n",
    "url = 'http://google.com/favicon.ico'\n",
    "r = requests.get(url, allow_redirects=True)\n",
    "open('google.ico', 'wb').write(r.content)\n"
   ]
  },
  {
   "cell_type": "code",
   "execution_count": 2,
   "metadata": {
    "_cell_guid": "050ea734-d768-4c11-9055-3927e76fb4db",
    "_uuid": "323810beeed04ac01affae755fea578adab6e0c6",
    "collapsed": true
   },
   "outputs": [],
   "source": [
    "# Load the dataset pre-packaged in the json file\n",
    "f = open(r'./shipsnet.json')\n",
    "dataset = json.load(f)\n",
    "f.close()\n"
   ]
  },
  {
   "cell_type": "code",
   "execution_count": 3,
   "metadata": {},
   "outputs": [
    {
     "name": "stdout",
     "output_type": "stream",
     "text": [
      "Number of keys in the dictionary:  4\n",
      "dict_keys(['data', 'labels', 'locations', 'scene_ids'])\n"
     ]
    }
   ],
   "source": [
    "# Dataset statistics\n",
    "print(\"Number of keys in the dictionary: \",len(dataset))\n",
    "print(dataset.keys())\n"
   ]
  },
  {
   "cell_type": "code",
   "execution_count": 4,
   "metadata": {},
   "outputs": [
    {
     "name": "stdout",
     "output_type": "stream",
     "text": [
      "Number of data samples:  3600\n",
      "Data sample size:  (3600, 19200)\n"
     ]
    }
   ],
   "source": [
    "print(\"Number of data samples: \",len(dataset['data']))\n",
    "\n",
    "print(\"Data sample size: \",np.array(dataset['data']).shape)"
   ]
  },
  {
   "cell_type": "code",
   "execution_count": 5,
   "metadata": {},
   "outputs": [
    {
     "name": "stdout",
     "output_type": "stream",
     "text": [
      "Label size:  (3600,)\n"
     ]
    }
   ],
   "source": [
    "print(\"Label size: \",np.array(dataset['labels']).shape)"
   ]
  },
  {
   "cell_type": "markdown",
   "metadata": {
    "_cell_guid": "a101f220-46ca-41fc-a091-7491917b71a1",
    "_uuid": "ba525ff7e714c9cc1a28cb9370b9986afcfea4bf"
   },
   "source": [
    "Load the data and see check how an image looks like"
   ]
  },
  {
   "cell_type": "code",
   "execution_count": 6,
   "metadata": {
    "_cell_guid": "71e24327-1562-4664-b73e-38b9b3ae5146",
    "_uuid": "543c9aea8f366f988fea7073102991c408ef4fcf"
   },
   "outputs": [
    {
     "name": "stdout",
     "output_type": "stream",
     "text": [
      "(3600, 80, 80, 3)\n"
     ]
    },
    {
     "data": {
      "text/plain": [
       "<matplotlib.image.AxesImage at 0x1c36ce45c0>"
      ]
     },
     "execution_count": 6,
     "metadata": {},
     "output_type": "execute_result"
    },
    {
     "data": {
      "image/png": "[encoded data removed]",
      "text/plain": [
       "<matplotlib.figure.Figure at 0x11e8bf9b0>"
      ]
     },
     "metadata": {},
     "output_type": "display_data"
    }
   ],
   "source": [
    "%matplotlib inline  \n",
    "data = np.array(dataset['data']).astype('uint8')\n",
    "img_length = 80\n",
    "data = data.reshape(-1,3,img_length,img_length).transpose([0,2,3,1])\n",
    "\n",
    "print(data.shape)\n",
    "plt.imshow(data[51])"
   ]
  },
  {
   "cell_type": "markdown",
   "metadata": {
    "_cell_guid": "3d87c788-f145-41d5-928f-ff7d81d96f6b",
    "_uuid": "1bb330dd7cd3d9a46ac019dd88e0481c796efade"
   },
   "source": [
    "Convert the images to grayscale colorspace before calculating the HOG features for each image"
   ]
  },
  {
   "cell_type": "code",
   "execution_count": 7,
   "metadata": {
    "_cell_guid": "7907cd4f-d7f0-464f-84ca-0f6b3da6d01e",
    "_uuid": "4c8de1455b2d1c63bf0b823c35d5371eb82c8b90"
   },
   "outputs": [
    {
     "data": {
      "text/plain": [
       "<matplotlib.image.AxesImage at 0x1c36e71748>"
      ]
     },
     "execution_count": 7,
     "metadata": {},
     "output_type": "execute_result"
    },
    {
     "data": {
      "image/png": "[encoded data removed]",
      "text/plain": [
       "<matplotlib.figure.Figure at 0x11e8bf080>"
      ]
     },
     "metadata": {},
     "output_type": "display_data"
    }
   ],
   "source": [
    "data_gray = [ color.rgb2gray(i) for i in data]\n",
    "plt.imshow(data_gray[51], cmap='gray')"
   ]
  },
  {
   "cell_type": "code",
   "execution_count": 8,
   "metadata": {
    "_cell_guid": "0f983630-1e7f-411a-a48d-01be7a1d6533",
    "_uuid": "3205c2a33a3a34d0eefdc51ad15339d5d44ba496"
   },
   "outputs": [
    {
     "name": "stderr",
     "output_type": "stream",
     "text": [
      "/Users/kiennguyenthanh/anaconda3/lib/python3.6/site-packages/skimage/feature/_hog.py:248: skimage_deprecation: Argument `visualise` is deprecated and will be changed to `visualize` in v0.16\n",
      "  'be changed to `visualize` in v0.16', skimage_deprecation)\n"
     ]
    }
   ],
   "source": [
    "ppc = 16\n",
    "hog_images = []\n",
    "hog_features = []\n",
    "for image in data_gray:\n",
    "    fd,hog_image = hog(image, orientations=8, pixels_per_cell=(ppc,ppc),cells_per_block=(4, 4),block_norm= 'L2',visualise=True)\n",
    "    hog_images.append(hog_image)\n",
    "    hog_features.append(fd)"
   ]
  },
  {
   "cell_type": "code",
   "execution_count": 10,
   "metadata": {},
   "outputs": [
    {
     "name": "stderr",
     "output_type": "stream",
     "text": [
      "IOPub data rate exceeded.\n",
      "The notebook server will temporarily stop sending output\n",
      "to the client in order to avoid crashing it.\n",
      "To change this limit, set the config variable\n",
      "`--NotebookApp.iopub_data_rate_limit`.\n"
     ]
    }
   ],
   "source": [
    "print(hog_features)"
   ]
  },
  {
   "cell_type": "markdown",
   "metadata": {
    "_cell_guid": "c5fb9482-68dd-49ed-a696-a918caab2a0e",
    "_uuid": "0dc767c5f42c33ce23d517e5a3fb4ba862c8f469"
   },
   "source": [
    "The hog function of skimage returns a matrix that can be used to visualize the gradients"
   ]
  },
  {
   "cell_type": "code",
   "execution_count": 11,
   "metadata": {
    "_cell_guid": "1d99eebf-84d6-4bbc-8698-0bee54dc7bb9",
    "_uuid": "e242d313fc8101d26e83996cd0567461cea60555"
   },
   "outputs": [
    {
     "data": {
      "text/plain": [
       "<matplotlib.image.AxesImage at 0x1c38ef4f28>"
      ]
     },
     "execution_count": 11,
     "metadata": {},
     "output_type": "execute_result"
    },
    {
     "data": {
      "image/png": "[encoded data removed]",
      "text/plain": [
       "<matplotlib.figure.Figure at 0x1c36e8fb38>"
      ]
     },
     "metadata": {},
     "output_type": "display_data"
    }
   ],
   "source": [
    "plt.imshow(hog_images[51])"
   ]
  },
  {
   "cell_type": "code",
   "execution_count": 12,
   "metadata": {
    "_cell_guid": "2e73c2eb-d6b9-4c02-9149-2515b44fa7f8",
    "_uuid": "e4d43456af03dcfcf0587b7a4ca1b7d7fbe466d8"
   },
   "outputs": [
    {
     "name": "stdout",
     "output_type": "stream",
     "text": [
      "3600\n"
     ]
    },
    {
     "data": {
      "text/plain": [
       "(3600, 1)"
      ]
     },
     "execution_count": 12,
     "metadata": {},
     "output_type": "execute_result"
    }
   ],
   "source": [
    "print(len(dataset['labels']))\n",
    "\n",
    "labels =  np.array(dataset['labels']).reshape(len(dataset['labels']),1)\n",
    "labels.shape"
   ]
  },
  {
   "cell_type": "markdown",
   "metadata": {
    "_cell_guid": "a49b7994-cda6-4160-8c08-db0271ad0b35",
    "_uuid": "03422c5af98cc84ca1c6428ac8bfa3ae9e4cca6c"
   },
   "source": [
    "Fit a simple SVM classifier to the data . Make sure to shuffle the data before fitting it to the model"
   ]
  },
  {
   "cell_type": "code",
   "execution_count": 13,
   "metadata": {
    "_cell_guid": "3963fce6-6f74-45f8-b4b1-d6df7741c40a",
    "_uuid": "6ea82e9e469efbb52e15a1b9eb1f13f411cf44bb",
    "collapsed": true
   },
   "outputs": [],
   "source": [
    "clf = svm.SVC()\n",
    "hog_features = np.array(hog_features)\n",
    "data_frame = np.hstack((hog_features,labels))\n",
    "np.random.shuffle(data_frame)"
   ]
  },
  {
   "cell_type": "code",
   "execution_count": 14,
   "metadata": {
    "_cell_guid": "36381116-f599-41f6-a78d-ea2054d57156",
    "_uuid": "8940f9e316bb736a14f4f6bdfaa854a9aae43e5d",
    "collapsed": true
   },
   "outputs": [],
   "source": [
    "#What percentage of data you want to keep for training\n",
    "percentage = 80\n",
    "partition = int(len(hog_features)*percentage/100)"
   ]
  },
  {
   "cell_type": "code",
   "execution_count": 15,
   "metadata": {
    "_cell_guid": "0589e60c-ad50-4510-bd29-a0a7e5957589",
    "_uuid": "12befca6c78e5a651cf5a2caf728d840579fcddb"
   },
   "outputs": [
    {
     "data": {
      "text/plain": [
       "SVC(C=1.0, cache_size=200, class_weight=None, coef0=0.0,\n",
       "  decision_function_shape='ovr', degree=3, gamma='auto', kernel='rbf',\n",
       "  max_iter=-1, probability=False, random_state=None, shrinking=True,\n",
       "  tol=0.001, verbose=False)"
      ]
     },
     "execution_count": 15,
     "metadata": {},
     "output_type": "execute_result"
    }
   ],
   "source": [
    "# Use 80% of the data for trainign and 20% for testing\n",
    "x_train, x_test = data_frame[:partition,:-1],  data_frame[partition:,:-1]\n",
    "y_train, y_test = data_frame[:partition,-1:].ravel() , data_frame[partition:,-1:].ravel()\n",
    "\n",
    "clf.fit(x_train,y_train)"
   ]
  },
  {
   "cell_type": "code",
   "execution_count": 16,
   "metadata": {
    "_cell_guid": "6a23f296-ef7c-4434-8670-7da458cb7083",
    "_uuid": "169573ca753acae6cedde8e50213cea5b2f9c07b"
   },
   "outputs": [
    {
     "name": "stdout",
     "output_type": "stream",
     "text": [
      "(720,)\n",
      "Prediction :  [1. 0. 0. 0. 0. 0. 0. 0. 1. 0. 0. 0. 0. 0. 0. 1. 0. 1. 0.]\n",
      "GroundTruth:  [1. 0. 1. 0. 0. 0. 0. 0. 1. 0. 1. 0. 0. 1. 0. 1. 1. 1. 0.]\n"
     ]
    }
   ],
   "source": [
    "y_pred = clf.predict(x_test)\n",
    "\n",
    "print(y_pred.shape)\n",
    "print(\"Prediction : \",y_pred[1:20])\n",
    "print(\"GroundTruth: \",y_test[1:20])"
   ]
  },
  {
   "cell_type": "code",
   "execution_count": 17,
   "metadata": {
    "_cell_guid": "91ab6668-92c9-40f8-9432-8de008021a34",
    "_uuid": "c34aeca6ac1adcbe3160bfbfd0ac5cb6ea68cc4f"
   },
   "outputs": [
    {
     "name": "stdout",
     "output_type": "stream",
     "text": [
      "Accuracy: 0.9055555555555556\n",
      "\n",
      "\n",
      "             precision    recall  f1-score   support\n",
      "\n",
      "        0.0       0.90      0.98      0.94       528\n",
      "        1.0       0.94      0.69      0.80       192\n",
      "\n",
      "avg / total       0.91      0.91      0.90       720\n",
      "\n"
     ]
    }
   ],
   "source": [
    "print(\"Accuracy: \"+str(accuracy_score(y_test, y_pred)))\n",
    "print('\\n')\n",
    "print(classification_report(y_test, y_pred))"
   ]
  },
  {
   "cell_type": "markdown",
   "metadata": {
    "_cell_guid": "f96ff658-ea0a-4510-bb40-fd732b48dab4",
    "_uuid": "3919c5130cb6b2e0e86c3d4b3e0c91a8ce2651c9"
   },
   "source": [
    "This shows that we can gain considerably good results with computer vision approaches alone. "
   ]
  },
  {
   "cell_type": "code",
   "execution_count": null,
   "metadata": {
    "_cell_guid": "2e84dcd4-b554-41f0-8559-df4d67782242",
    "_uuid": "6369a9db086f94305d81cf016299f54790dc282f",
    "collapsed": true
   },
   "outputs": [],
   "source": []
  }
 ],
 "metadata": {
  "kernelspec": {
   "display_name": "Python 3",
   "language": "python",
   "name": "python3"
  },
  "language_info": {
   "codemirror_mode": {
    "name": "ipython",
    "version": 3
   },
   "file_extension": ".py",
   "mimetype": "text/x-python",
   "name": "python",
   "nbconvert_exporter": "python",
   "pygments_lexer": "ipython3",
   "version": "3.6.2"
  }
 },
 "nbformat": 4,
 "nbformat_minor": 1
}
